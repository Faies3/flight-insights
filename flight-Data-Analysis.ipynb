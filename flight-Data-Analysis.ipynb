{
 "cells": [
  {
   "cell_type": "markdown",
   "id": "12dfb286-0d13-4bdb-b443-d2d8c7eb6237",
   "metadata": {},
   "source": [
    "## **Flight Data Analysis**\n",
    "### Importing libraries"
   ]
  },
  {
   "cell_type": "code",
   "execution_count": 2,
   "id": "5e3cea21-72f3-4707-9cd2-02e0d84414c9",
   "metadata": {},
   "outputs": [],
   "source": [
    "import pandas as pd\n",
    "import numpy as np\n",
    "import matplotlib.pyplot as plt\n",
    "import seaborn as sns"
   ]
  },
  {
   "cell_type": "code",
   "execution_count": 3,
   "id": "67bbff3e-cbcf-4be3-a50a-7d76e5332c93",
   "metadata": {},
   "outputs": [],
   "source": [
    "flight_df=pd.read_csv(\"goibibo_flights_data.csv\")"
   ]
  },
  {
   "cell_type": "code",
   "execution_count": 4,
   "id": "561a410d-e47a-4a73-8146-3e599f2d12f1",
   "metadata": {},
   "outputs": [
    {
     "data": {
      "text/html": [
       "<div>\n",
       "<style scoped>\n",
       "    .dataframe tbody tr th:only-of-type {\n",
       "        vertical-align: middle;\n",
       "    }\n",
       "\n",
       "    .dataframe tbody tr th {\n",
       "        vertical-align: top;\n",
       "    }\n",
       "\n",
       "    .dataframe thead th {\n",
       "        text-align: right;\n",
       "    }\n",
       "</style>\n",
       "<table border=\"1\" class=\"dataframe\">\n",
       "  <thead>\n",
       "    <tr style=\"text-align: right;\">\n",
       "      <th></th>\n",
       "      <th>flight date</th>\n",
       "      <th>airline</th>\n",
       "      <th>flight_num</th>\n",
       "      <th>class</th>\n",
       "      <th>from</th>\n",
       "      <th>dep_time</th>\n",
       "      <th>to</th>\n",
       "      <th>arr_time</th>\n",
       "      <th>duration</th>\n",
       "      <th>price</th>\n",
       "      <th>stops</th>\n",
       "      <th>Unnamed: 11</th>\n",
       "      <th>Unnamed: 12</th>\n",
       "    </tr>\n",
       "  </thead>\n",
       "  <tbody>\n",
       "    <tr>\n",
       "      <th>0</th>\n",
       "      <td>26-06-2023</td>\n",
       "      <td>SpiceJet</td>\n",
       "      <td>SG-8709</td>\n",
       "      <td>economy</td>\n",
       "      <td>Delhi</td>\n",
       "      <td>18:55</td>\n",
       "      <td>Mumbai</td>\n",
       "      <td>21:05</td>\n",
       "      <td>02h 10m</td>\n",
       "      <td>6,013</td>\n",
       "      <td>non-stop</td>\n",
       "      <td>NaN</td>\n",
       "      <td>NaN</td>\n",
       "    </tr>\n",
       "    <tr>\n",
       "      <th>1</th>\n",
       "      <td>26-06-2023</td>\n",
       "      <td>SpiceJet</td>\n",
       "      <td>SG-8157</td>\n",
       "      <td>economy</td>\n",
       "      <td>Delhi</td>\n",
       "      <td>06:20</td>\n",
       "      <td>Mumbai</td>\n",
       "      <td>08:40</td>\n",
       "      <td>02h 20m</td>\n",
       "      <td>6,013</td>\n",
       "      <td>non-stop</td>\n",
       "      <td>NaN</td>\n",
       "      <td>NaN</td>\n",
       "    </tr>\n",
       "    <tr>\n",
       "      <th>2</th>\n",
       "      <td>26-06-2023</td>\n",
       "      <td>AirAsia</td>\n",
       "      <td>I5-764</td>\n",
       "      <td>economy</td>\n",
       "      <td>Delhi</td>\n",
       "      <td>04:25</td>\n",
       "      <td>Mumbai</td>\n",
       "      <td>06:35</td>\n",
       "      <td>02h 10m</td>\n",
       "      <td>6,016</td>\n",
       "      <td>non-stop</td>\n",
       "      <td>NaN</td>\n",
       "      <td>NaN</td>\n",
       "    </tr>\n",
       "    <tr>\n",
       "      <th>3</th>\n",
       "      <td>26-06-2023</td>\n",
       "      <td>Vistara</td>\n",
       "      <td>UK-995</td>\n",
       "      <td>economy</td>\n",
       "      <td>Delhi</td>\n",
       "      <td>10:20</td>\n",
       "      <td>Mumbai</td>\n",
       "      <td>12:35</td>\n",
       "      <td>02h 15m</td>\n",
       "      <td>6,015</td>\n",
       "      <td>non-stop</td>\n",
       "      <td>NaN</td>\n",
       "      <td>NaN</td>\n",
       "    </tr>\n",
       "    <tr>\n",
       "      <th>4</th>\n",
       "      <td>26-06-2023</td>\n",
       "      <td>Vistara</td>\n",
       "      <td>UK-963</td>\n",
       "      <td>economy</td>\n",
       "      <td>Delhi</td>\n",
       "      <td>08:50</td>\n",
       "      <td>Mumbai</td>\n",
       "      <td>11:10</td>\n",
       "      <td>02h 20m</td>\n",
       "      <td>6,015</td>\n",
       "      <td>non-stop</td>\n",
       "      <td>NaN</td>\n",
       "      <td>NaN</td>\n",
       "    </tr>\n",
       "  </tbody>\n",
       "</table>\n",
       "</div>"
      ],
      "text/plain": [
       "  flight date   airline flight_num    class   from dep_time      to arr_time  \\\n",
       "0  26-06-2023  SpiceJet    SG-8709  economy  Delhi    18:55  Mumbai    21:05   \n",
       "1  26-06-2023  SpiceJet    SG-8157  economy  Delhi    06:20  Mumbai    08:40   \n",
       "2  26-06-2023   AirAsia     I5-764  economy  Delhi    04:25  Mumbai    06:35   \n",
       "3  26-06-2023   Vistara     UK-995  economy  Delhi    10:20  Mumbai    12:35   \n",
       "4  26-06-2023   Vistara     UK-963  economy  Delhi    08:50  Mumbai    11:10   \n",
       "\n",
       "  duration  price     stops  Unnamed: 11  Unnamed: 12  \n",
       "0  02h 10m  6,013  non-stop          NaN          NaN  \n",
       "1  02h 20m  6,013  non-stop          NaN          NaN  \n",
       "2  02h 10m  6,016  non-stop          NaN          NaN  \n",
       "3  02h 15m  6,015  non-stop          NaN          NaN  \n",
       "4  02h 20m  6,015  non-stop          NaN          NaN  "
      ]
     },
     "execution_count": 4,
     "metadata": {},
     "output_type": "execute_result"
    }
   ],
   "source": [
    "flight_df.head()"
   ]
  },
  {
   "cell_type": "code",
   "execution_count": 49,
   "id": "2bd832cf-0dc7-4ee3-b366-fddc2d1b79f1",
   "metadata": {},
   "outputs": [],
   "source": [
    "## Understanding Data"
   ]
  },
  {
   "cell_type": "code",
   "execution_count": 6,
   "id": "98859447-9e2e-45cc-9072-29231324d69a",
   "metadata": {},
   "outputs": [
    {
     "name": "stdout",
     "output_type": "stream",
     "text": [
      "Number of rows : 300261\n",
      "Number of columns : 13\n"
     ]
    }
   ],
   "source": [
    "rows=flight_df.shape[0]\n",
    "columns=flight_df.shape[1]\n",
    "print(\"Number of rows :\",rows)\n",
    "print(\"Number of columns :\",columns)"
   ]
  },
  {
   "cell_type": "code",
   "execution_count": 7,
   "id": "a03c3c7a-a5e1-404e-8a79-bf237b616e45",
   "metadata": {},
   "outputs": [
    {
     "data": {
      "text/plain": [
       "Index(['flight date', 'airline', 'flight_num', 'class', 'from', 'dep_time',\n",
       "       'to', 'arr_time', 'duration', 'price', 'stops', 'Unnamed: 11',\n",
       "       'Unnamed: 12'],\n",
       "      dtype='object')"
      ]
     },
     "execution_count": 7,
     "metadata": {},
     "output_type": "execute_result"
    }
   ],
   "source": [
    "flight_df.columns"
   ]
  },
  {
   "cell_type": "code",
   "execution_count": 8,
   "id": "6594f741-6b6b-4cd8-9cf6-ce586f4ec82d",
   "metadata": {},
   "outputs": [
    {
     "name": "stdout",
     "output_type": "stream",
     "text": [
      "<class 'pandas.core.frame.DataFrame'>\n",
      "RangeIndex: 300261 entries, 0 to 300260\n",
      "Data columns (total 13 columns):\n",
      " #   Column       Non-Null Count   Dtype  \n",
      "---  ------       --------------   -----  \n",
      " 0   flight date  300261 non-null  object \n",
      " 1   airline      300261 non-null  object \n",
      " 2   flight_num   300261 non-null  object \n",
      " 3   class        300261 non-null  object \n",
      " 4   from         300261 non-null  object \n",
      " 5   dep_time     300261 non-null  object \n",
      " 6   to           300261 non-null  object \n",
      " 7   arr_time     300261 non-null  object \n",
      " 8   duration     300261 non-null  object \n",
      " 9   price        300261 non-null  object \n",
      " 10  stops        300261 non-null  object \n",
      " 11  Unnamed: 11  0 non-null       float64\n",
      " 12  Unnamed: 12  0 non-null       float64\n",
      "dtypes: float64(2), object(11)\n",
      "memory usage: 29.8+ MB\n"
     ]
    }
   ],
   "source": [
    "flight_df.info()"
   ]
  },
  {
   "cell_type": "markdown",
   "id": "3e039ac0-6bc1-4efb-9b8f-75fb251b2829",
   "metadata": {},
   "source": [
    "#### The dataset has no null values, but the data types need correction."
   ]
  },
  {
   "cell_type": "markdown",
   "id": "1b903597-d431-4b8c-9a8a-6358d575914c",
   "metadata": {},
   "source": [
    "## **Data Preprocessing**\n",
    "\n",
    "* Removing duplicates\n",
    "* Changing the format of the data\n",
    "* Creating new columns\n",
    "* Splitting the columns\n",
    "* Dropping less important columns"
   ]
  },
  {
   "cell_type": "markdown",
   "id": "506c8b69-bb8d-4406-b9ce-60804988cea3",
   "metadata": {},
   "source": [
    "#### Deleting Duplicates"
   ]
  },
  {
   "cell_type": "code",
   "execution_count": 9,
   "id": "3ba8e02d-6766-4071-a319-1cd69dccd047",
   "metadata": {},
   "outputs": [
    {
     "data": {
      "text/plain": [
       "np.int64(2)"
      ]
     },
     "execution_count": 9,
     "metadata": {},
     "output_type": "execute_result"
    }
   ],
   "source": [
    "flight_df.duplicated().sum()"
   ]
  },
  {
   "cell_type": "code",
   "execution_count": 10,
   "id": "ce372356-6616-41e0-aa5c-23b094ea508b",
   "metadata": {},
   "outputs": [],
   "source": [
    "flight_df=flight_df.drop_duplicates()"
   ]
  },
  {
   "cell_type": "code",
   "execution_count": 11,
   "id": "122964a1-6035-426c-be80-ec47aa4dc0a3",
   "metadata": {},
   "outputs": [
    {
     "data": {
      "text/plain": [
       "np.int64(0)"
      ]
     },
     "execution_count": 11,
     "metadata": {},
     "output_type": "execute_result"
    }
   ],
   "source": [
    "flight_df.duplicated().sum()"
   ]
  },
  {
   "cell_type": "code",
   "execution_count": 12,
   "id": "3e03fcdc-54e4-4e08-aad0-8798bc5c7a2d",
   "metadata": {},
   "outputs": [
    {
     "data": {
      "text/plain": [
       "(300259, 13)"
      ]
     },
     "execution_count": 12,
     "metadata": {},
     "output_type": "execute_result"
    }
   ],
   "source": [
    "flight_df.shape"
   ]
  },
  {
   "cell_type": "code",
   "execution_count": 13,
   "id": "bd54531e-f7d5-4cd6-b2d6-ca7cb580887d",
   "metadata": {},
   "outputs": [
    {
     "data": {
      "text/html": [
       "<div>\n",
       "<style scoped>\n",
       "    .dataframe tbody tr th:only-of-type {\n",
       "        vertical-align: middle;\n",
       "    }\n",
       "\n",
       "    .dataframe tbody tr th {\n",
       "        vertical-align: top;\n",
       "    }\n",
       "\n",
       "    .dataframe thead th {\n",
       "        text-align: right;\n",
       "    }\n",
       "</style>\n",
       "<table border=\"1\" class=\"dataframe\">\n",
       "  <thead>\n",
       "    <tr style=\"text-align: right;\">\n",
       "      <th></th>\n",
       "      <th>flight date</th>\n",
       "      <th>airline</th>\n",
       "      <th>flight_num</th>\n",
       "      <th>class</th>\n",
       "      <th>from</th>\n",
       "      <th>dep_time</th>\n",
       "      <th>to</th>\n",
       "      <th>arr_time</th>\n",
       "      <th>duration</th>\n",
       "      <th>price</th>\n",
       "      <th>stops</th>\n",
       "      <th>Unnamed: 11</th>\n",
       "      <th>Unnamed: 12</th>\n",
       "    </tr>\n",
       "  </thead>\n",
       "  <tbody>\n",
       "    <tr>\n",
       "      <th>0</th>\n",
       "      <td>26-06-2023</td>\n",
       "      <td>SpiceJet</td>\n",
       "      <td>SG-8709</td>\n",
       "      <td>economy</td>\n",
       "      <td>Delhi</td>\n",
       "      <td>18:55</td>\n",
       "      <td>Mumbai</td>\n",
       "      <td>21:05</td>\n",
       "      <td>02h 10m</td>\n",
       "      <td>6,013</td>\n",
       "      <td>non-stop</td>\n",
       "      <td>NaN</td>\n",
       "      <td>NaN</td>\n",
       "    </tr>\n",
       "    <tr>\n",
       "      <th>1</th>\n",
       "      <td>26-06-2023</td>\n",
       "      <td>SpiceJet</td>\n",
       "      <td>SG-8157</td>\n",
       "      <td>economy</td>\n",
       "      <td>Delhi</td>\n",
       "      <td>06:20</td>\n",
       "      <td>Mumbai</td>\n",
       "      <td>08:40</td>\n",
       "      <td>02h 20m</td>\n",
       "      <td>6,013</td>\n",
       "      <td>non-stop</td>\n",
       "      <td>NaN</td>\n",
       "      <td>NaN</td>\n",
       "    </tr>\n",
       "    <tr>\n",
       "      <th>2</th>\n",
       "      <td>26-06-2023</td>\n",
       "      <td>AirAsia</td>\n",
       "      <td>I5-764</td>\n",
       "      <td>economy</td>\n",
       "      <td>Delhi</td>\n",
       "      <td>04:25</td>\n",
       "      <td>Mumbai</td>\n",
       "      <td>06:35</td>\n",
       "      <td>02h 10m</td>\n",
       "      <td>6,016</td>\n",
       "      <td>non-stop</td>\n",
       "      <td>NaN</td>\n",
       "      <td>NaN</td>\n",
       "    </tr>\n",
       "    <tr>\n",
       "      <th>3</th>\n",
       "      <td>26-06-2023</td>\n",
       "      <td>Vistara</td>\n",
       "      <td>UK-995</td>\n",
       "      <td>economy</td>\n",
       "      <td>Delhi</td>\n",
       "      <td>10:20</td>\n",
       "      <td>Mumbai</td>\n",
       "      <td>12:35</td>\n",
       "      <td>02h 15m</td>\n",
       "      <td>6,015</td>\n",
       "      <td>non-stop</td>\n",
       "      <td>NaN</td>\n",
       "      <td>NaN</td>\n",
       "    </tr>\n",
       "    <tr>\n",
       "      <th>4</th>\n",
       "      <td>26-06-2023</td>\n",
       "      <td>Vistara</td>\n",
       "      <td>UK-963</td>\n",
       "      <td>economy</td>\n",
       "      <td>Delhi</td>\n",
       "      <td>08:50</td>\n",
       "      <td>Mumbai</td>\n",
       "      <td>11:10</td>\n",
       "      <td>02h 20m</td>\n",
       "      <td>6,015</td>\n",
       "      <td>non-stop</td>\n",
       "      <td>NaN</td>\n",
       "      <td>NaN</td>\n",
       "    </tr>\n",
       "  </tbody>\n",
       "</table>\n",
       "</div>"
      ],
      "text/plain": [
       "  flight date   airline flight_num    class   from dep_time      to arr_time  \\\n",
       "0  26-06-2023  SpiceJet    SG-8709  economy  Delhi    18:55  Mumbai    21:05   \n",
       "1  26-06-2023  SpiceJet    SG-8157  economy  Delhi    06:20  Mumbai    08:40   \n",
       "2  26-06-2023   AirAsia     I5-764  economy  Delhi    04:25  Mumbai    06:35   \n",
       "3  26-06-2023   Vistara     UK-995  economy  Delhi    10:20  Mumbai    12:35   \n",
       "4  26-06-2023   Vistara     UK-963  economy  Delhi    08:50  Mumbai    11:10   \n",
       "\n",
       "  duration  price     stops  Unnamed: 11  Unnamed: 12  \n",
       "0  02h 10m  6,013  non-stop          NaN          NaN  \n",
       "1  02h 20m  6,013  non-stop          NaN          NaN  \n",
       "2  02h 10m  6,016  non-stop          NaN          NaN  \n",
       "3  02h 15m  6,015  non-stop          NaN          NaN  \n",
       "4  02h 20m  6,015  non-stop          NaN          NaN  "
      ]
     },
     "execution_count": 13,
     "metadata": {},
     "output_type": "execute_result"
    }
   ],
   "source": [
    "flight_df.head()"
   ]
  },
  {
   "cell_type": "code",
   "execution_count": 14,
   "id": "282cb180-59d0-4cec-b877-61521953a901",
   "metadata": {},
   "outputs": [],
   "source": [
    "flight_df=flight_df.iloc[:,:-2]"
   ]
  },
  {
   "cell_type": "markdown",
   "id": "42d0f80d-e0c8-4997-a205-54caf159a52f",
   "metadata": {},
   "source": [
    "#### Converting  columns."
   ]
  },
  {
   "cell_type": "code",
   "execution_count": 15,
   "id": "82fc5692-998d-4157-93ea-431efb8a1ac6",
   "metadata": {},
   "outputs": [],
   "source": [
    "flight_df[\"flight date\"]=pd.to_datetime(flight_df['flight date'],dayfirst=True)\n",
    "flight_df.dep_time=pd.to_datetime(flight_df['dep_time'],format='%H:%M').dt.time\n",
    "flight_df.arr_time=pd.to_datetime(flight_df['arr_time'],format='%H:%M').dt.time"
   ]
  },
  {
   "cell_type": "code",
   "execution_count": 16,
   "id": "309b3c2f-e418-4b36-9b7d-0fadc2abc119",
   "metadata": {},
   "outputs": [],
   "source": [
    "flight_df.price=flight_df.price.str.replace(\",\",\"\")\n",
    "flight_df.price=pd.to_numeric(flight_df.price)"
   ]
  },
  {
   "cell_type": "code",
   "execution_count": 17,
   "id": "02dd9faf-cad2-4eb5-95f8-9a99a59000cb",
   "metadata": {},
   "outputs": [],
   "source": [
    "def convStops(x):\n",
    "    if 'non-stop' in x:\n",
    "        return 0\n",
    "    elif '1' in x:\n",
    "        return 1\n",
    "    elif '2' in x:\n",
    "        return 2\n",
    "def convDuration(x):\n",
    "    h,m=x.split(\" \")\n",
    "    h=h.replace(\"h\",\"\")\n",
    "    m=m.replace(\"m\",\"\")\n",
    "    if len(h)==0:\n",
    "        h=0\n",
    "    elif len(m)==0:\n",
    "        m=0\n",
    "    h=float(h)\n",
    "    m=float(m)\n",
    "    return h*60+m\n",
    "flight_df['stops']=flight_df['stops'].apply(lambda s:convStops(s))\n",
    "flight_df['duration']=flight_df['duration'].apply(lambda d:convDuration(d))  "
   ]
  },
  {
   "cell_type": "code",
   "execution_count": 18,
   "id": "2ee37d59-a7e5-4c92-ac0a-de76ff8707e2",
   "metadata": {},
   "outputs": [
    {
     "data": {
      "text/html": [
       "<div>\n",
       "<style scoped>\n",
       "    .dataframe tbody tr th:only-of-type {\n",
       "        vertical-align: middle;\n",
       "    }\n",
       "\n",
       "    .dataframe tbody tr th {\n",
       "        vertical-align: top;\n",
       "    }\n",
       "\n",
       "    .dataframe thead th {\n",
       "        text-align: right;\n",
       "    }\n",
       "</style>\n",
       "<table border=\"1\" class=\"dataframe\">\n",
       "  <thead>\n",
       "    <tr style=\"text-align: right;\">\n",
       "      <th></th>\n",
       "      <th>flight date</th>\n",
       "      <th>airline</th>\n",
       "      <th>flight_num</th>\n",
       "      <th>class</th>\n",
       "      <th>from</th>\n",
       "      <th>dep_time</th>\n",
       "      <th>to</th>\n",
       "      <th>arr_time</th>\n",
       "      <th>duration</th>\n",
       "      <th>price</th>\n",
       "      <th>stops</th>\n",
       "    </tr>\n",
       "  </thead>\n",
       "  <tbody>\n",
       "    <tr>\n",
       "      <th>300256</th>\n",
       "      <td>2023-08-13</td>\n",
       "      <td>Vistara</td>\n",
       "      <td>UK-822</td>\n",
       "      <td>business</td>\n",
       "      <td>Chennai</td>\n",
       "      <td>09:45:00</td>\n",
       "      <td>Hyderabad</td>\n",
       "      <td>19:50:00</td>\n",
       "      <td>605.0</td>\n",
       "      <td>70304</td>\n",
       "      <td>1</td>\n",
       "    </tr>\n",
       "    <tr>\n",
       "      <th>300257</th>\n",
       "      <td>2023-08-13</td>\n",
       "      <td>Vistara</td>\n",
       "      <td>UK-826</td>\n",
       "      <td>business</td>\n",
       "      <td>Chennai</td>\n",
       "      <td>12:30:00</td>\n",
       "      <td>Hyderabad</td>\n",
       "      <td>22:55:00</td>\n",
       "      <td>625.0</td>\n",
       "      <td>78262</td>\n",
       "      <td>1</td>\n",
       "    </tr>\n",
       "    <tr>\n",
       "      <th>300258</th>\n",
       "      <td>2023-08-13</td>\n",
       "      <td>Vistara</td>\n",
       "      <td>UK-832</td>\n",
       "      <td>business</td>\n",
       "      <td>Chennai</td>\n",
       "      <td>07:05:00</td>\n",
       "      <td>Hyderabad</td>\n",
       "      <td>20:55:00</td>\n",
       "      <td>830.0</td>\n",
       "      <td>80285</td>\n",
       "      <td>1</td>\n",
       "    </tr>\n",
       "    <tr>\n",
       "      <th>300259</th>\n",
       "      <td>2023-08-13</td>\n",
       "      <td>Vistara</td>\n",
       "      <td>UK-828</td>\n",
       "      <td>business</td>\n",
       "      <td>Chennai</td>\n",
       "      <td>07:00:00</td>\n",
       "      <td>Hyderabad</td>\n",
       "      <td>17:00:00</td>\n",
       "      <td>600.0</td>\n",
       "      <td>82809</td>\n",
       "      <td>1</td>\n",
       "    </tr>\n",
       "    <tr>\n",
       "      <th>300260</th>\n",
       "      <td>2023-08-13</td>\n",
       "      <td>Vistara</td>\n",
       "      <td>UK-822</td>\n",
       "      <td>business</td>\n",
       "      <td>Chennai</td>\n",
       "      <td>09:45:00</td>\n",
       "      <td>Hyderabad</td>\n",
       "      <td>19:50:00</td>\n",
       "      <td>605.0</td>\n",
       "      <td>82809</td>\n",
       "      <td>1</td>\n",
       "    </tr>\n",
       "  </tbody>\n",
       "</table>\n",
       "</div>"
      ],
      "text/plain": [
       "       flight date  airline flight_num     class     from  dep_time  \\\n",
       "300256  2023-08-13  Vistara     UK-822  business  Chennai  09:45:00   \n",
       "300257  2023-08-13  Vistara     UK-826  business  Chennai  12:30:00   \n",
       "300258  2023-08-13  Vistara     UK-832  business  Chennai  07:05:00   \n",
       "300259  2023-08-13  Vistara     UK-828  business  Chennai  07:00:00   \n",
       "300260  2023-08-13  Vistara     UK-822  business  Chennai  09:45:00   \n",
       "\n",
       "               to  arr_time  duration  price  stops  \n",
       "300256  Hyderabad  19:50:00     605.0  70304      1  \n",
       "300257  Hyderabad  22:55:00     625.0  78262      1  \n",
       "300258  Hyderabad  20:55:00     830.0  80285      1  \n",
       "300259  Hyderabad  17:00:00     600.0  82809      1  \n",
       "300260  Hyderabad  19:50:00     605.0  82809      1  "
      ]
     },
     "execution_count": 18,
     "metadata": {},
     "output_type": "execute_result"
    }
   ],
   "source": [
    "flight_df.tail()"
   ]
  },
  {
   "cell_type": "markdown",
   "id": "0889803c-fe1a-4945-ac6d-36dc2f1012d2",
   "metadata": {},
   "source": [
    "#### Creating new column based on the route."
   ]
  },
  {
   "cell_type": "code",
   "execution_count": 19,
   "id": "34638246-512e-4e2f-9da4-8e1d99a4c836",
   "metadata": {},
   "outputs": [],
   "source": [
    "flight_df[\"route\"]=flight_df[\"from\"]+\"-\"+flight_df[\"to\"]"
   ]
  },
  {
   "cell_type": "code",
   "execution_count": 20,
   "id": "7264e590-004c-48b5-a30d-321b3a33d838",
   "metadata": {},
   "outputs": [
    {
     "data": {
      "text/plain": [
       "from\n",
       "Delhi        61343\n",
       "Mumbai       60903\n",
       "Bangalore    52106\n",
       "Kolkata      46347\n",
       "Hyderabad    40860\n",
       "Chennai      38700\n",
       "Name: count, dtype: int64"
      ]
     },
     "execution_count": 20,
     "metadata": {},
     "output_type": "execute_result"
    }
   ],
   "source": [
    "flight_df['from'].value_counts()"
   ]
  },
  {
   "cell_type": "code",
   "execution_count": 21,
   "id": "87a6169c-0bee-45e0-8978-0a00484e43ea",
   "metadata": {},
   "outputs": [
    {
     "data": {
      "text/plain": [
       "to\n",
       "Mumbai       59107\n",
       "Delhi        57361\n",
       "Bangalore    51112\n",
       "Kolkata      49535\n",
       "Hyderabad    42776\n",
       "Chennai      40368\n",
       "Name: count, dtype: int64"
      ]
     },
     "execution_count": 21,
     "metadata": {},
     "output_type": "execute_result"
    }
   ],
   "source": [
    "flight_df['to'].value_counts()"
   ]
  },
  {
   "cell_type": "code",
   "execution_count": 22,
   "id": "7f261268-53da-44e7-a6ba-9012d429e5f6",
   "metadata": {},
   "outputs": [
    {
     "data": {
      "text/plain": [
       "stops\n",
       "1    250927\n",
       "0     36044\n",
       "2     13288\n",
       "Name: count, dtype: int64"
      ]
     },
     "execution_count": 22,
     "metadata": {},
     "output_type": "execute_result"
    }
   ],
   "source": [
    "flight_df.stops.value_counts()"
   ]
  },
  {
   "cell_type": "code",
   "execution_count": 23,
   "id": "08ba27c7-9bcb-4b4e-852d-98da4ca36d73",
   "metadata": {},
   "outputs": [],
   "source": [
    "def get_hr(time):\n",
    "  h,m,s = time.split(':')\n",
    "  return int(h)\n",
    "flight_df[\"dep_time\"] = flight_df[\"dep_time\"].apply(lambda x:str(x))\n",
    "flight_df[\"dep_time\"] = flight_df[\"dep_time\"].apply(lambda x:get_hr(x))\n",
    "flight_df[\"arr_time\"] = flight_df[\"arr_time\"].apply(lambda x:str(x))\n",
    "flight_df[\"arr_time\"] = flight_df[\"arr_time\"].apply(lambda x:get_hr(x))\n",
    "\n",
    "def get_part_of_day(hour):\n",
    "  return(\n",
    "      \"Early Morning\" if 0<= hour <5\n",
    "      else\n",
    "      \"Morning\" if 5<= hour <12\n",
    "      else\n",
    "      \"Afternoon\" if 12<= hour <16\n",
    "      else\n",
    "      \"Evening\"   if 16<=hour<19\n",
    "      else\n",
    "      \"Night\" if 19<=hour<22\n",
    "      else\n",
    "      \"Late Night\" \n",
    "  )\n",
    "flight_df[\"Departure\"] = flight_df[\"dep_time\"].apply(lambda x:get_part_of_day(x))\n",
    "flight_df[\"Arrival\"] = flight_df[\"arr_time\"].apply(lambda x:get_part_of_day(x))\n"
   ]
  },
  {
   "cell_type": "code",
   "execution_count": 24,
   "id": "71470fad-c230-4277-afc5-d902a641f1f7",
   "metadata": {},
   "outputs": [
    {
     "name": "stdout",
     "output_type": "stream",
     "text": [
      "<class 'pandas.core.frame.DataFrame'>\n",
      "Index: 300259 entries, 0 to 300260\n",
      "Data columns (total 14 columns):\n",
      " #   Column       Non-Null Count   Dtype         \n",
      "---  ------       --------------   -----         \n",
      " 0   flight date  300259 non-null  datetime64[ns]\n",
      " 1   airline      300259 non-null  object        \n",
      " 2   flight_num   300259 non-null  object        \n",
      " 3   class        300259 non-null  object        \n",
      " 4   from         300259 non-null  object        \n",
      " 5   dep_time     300259 non-null  int64         \n",
      " 6   to           300259 non-null  object        \n",
      " 7   arr_time     300259 non-null  int64         \n",
      " 8   duration     300259 non-null  float64       \n",
      " 9   price        300259 non-null  int64         \n",
      " 10  stops        300259 non-null  int64         \n",
      " 11  route        300259 non-null  object        \n",
      " 12  Departure    300259 non-null  object        \n",
      " 13  Arrival      300259 non-null  object        \n",
      "dtypes: datetime64[ns](1), float64(1), int64(4), object(8)\n",
      "memory usage: 34.4+ MB\n"
     ]
    }
   ],
   "source": [
    "flight_df.info()"
   ]
  },
  {
   "cell_type": "code",
   "execution_count": 25,
   "id": "e7aa20a2-1419-498f-9e0f-e557f1e31dc1",
   "metadata": {},
   "outputs": [
    {
     "data": {
      "text/html": [
       "<div>\n",
       "<style scoped>\n",
       "    .dataframe tbody tr th:only-of-type {\n",
       "        vertical-align: middle;\n",
       "    }\n",
       "\n",
       "    .dataframe tbody tr th {\n",
       "        vertical-align: top;\n",
       "    }\n",
       "\n",
       "    .dataframe thead th {\n",
       "        text-align: right;\n",
       "    }\n",
       "</style>\n",
       "<table border=\"1\" class=\"dataframe\">\n",
       "  <thead>\n",
       "    <tr style=\"text-align: right;\">\n",
       "      <th></th>\n",
       "      <th>flight date</th>\n",
       "      <th>airline</th>\n",
       "      <th>flight_num</th>\n",
       "      <th>class</th>\n",
       "      <th>from</th>\n",
       "      <th>dep_time</th>\n",
       "      <th>to</th>\n",
       "      <th>arr_time</th>\n",
       "      <th>duration</th>\n",
       "      <th>price</th>\n",
       "      <th>stops</th>\n",
       "      <th>route</th>\n",
       "      <th>Departure</th>\n",
       "      <th>Arrival</th>\n",
       "    </tr>\n",
       "  </thead>\n",
       "  <tbody>\n",
       "    <tr>\n",
       "      <th>0</th>\n",
       "      <td>2023-06-26</td>\n",
       "      <td>SpiceJet</td>\n",
       "      <td>SG-8709</td>\n",
       "      <td>economy</td>\n",
       "      <td>Delhi</td>\n",
       "      <td>18</td>\n",
       "      <td>Mumbai</td>\n",
       "      <td>21</td>\n",
       "      <td>130.0</td>\n",
       "      <td>6013</td>\n",
       "      <td>0</td>\n",
       "      <td>Delhi-Mumbai</td>\n",
       "      <td>Evening</td>\n",
       "      <td>Night</td>\n",
       "    </tr>\n",
       "    <tr>\n",
       "      <th>1</th>\n",
       "      <td>2023-06-26</td>\n",
       "      <td>SpiceJet</td>\n",
       "      <td>SG-8157</td>\n",
       "      <td>economy</td>\n",
       "      <td>Delhi</td>\n",
       "      <td>6</td>\n",
       "      <td>Mumbai</td>\n",
       "      <td>8</td>\n",
       "      <td>140.0</td>\n",
       "      <td>6013</td>\n",
       "      <td>0</td>\n",
       "      <td>Delhi-Mumbai</td>\n",
       "      <td>Morning</td>\n",
       "      <td>Morning</td>\n",
       "    </tr>\n",
       "    <tr>\n",
       "      <th>2</th>\n",
       "      <td>2023-06-26</td>\n",
       "      <td>AirAsia</td>\n",
       "      <td>I5-764</td>\n",
       "      <td>economy</td>\n",
       "      <td>Delhi</td>\n",
       "      <td>4</td>\n",
       "      <td>Mumbai</td>\n",
       "      <td>6</td>\n",
       "      <td>130.0</td>\n",
       "      <td>6016</td>\n",
       "      <td>0</td>\n",
       "      <td>Delhi-Mumbai</td>\n",
       "      <td>Early Morning</td>\n",
       "      <td>Morning</td>\n",
       "    </tr>\n",
       "    <tr>\n",
       "      <th>3</th>\n",
       "      <td>2023-06-26</td>\n",
       "      <td>Vistara</td>\n",
       "      <td>UK-995</td>\n",
       "      <td>economy</td>\n",
       "      <td>Delhi</td>\n",
       "      <td>10</td>\n",
       "      <td>Mumbai</td>\n",
       "      <td>12</td>\n",
       "      <td>135.0</td>\n",
       "      <td>6015</td>\n",
       "      <td>0</td>\n",
       "      <td>Delhi-Mumbai</td>\n",
       "      <td>Morning</td>\n",
       "      <td>Afternoon</td>\n",
       "    </tr>\n",
       "    <tr>\n",
       "      <th>4</th>\n",
       "      <td>2023-06-26</td>\n",
       "      <td>Vistara</td>\n",
       "      <td>UK-963</td>\n",
       "      <td>economy</td>\n",
       "      <td>Delhi</td>\n",
       "      <td>8</td>\n",
       "      <td>Mumbai</td>\n",
       "      <td>11</td>\n",
       "      <td>140.0</td>\n",
       "      <td>6015</td>\n",
       "      <td>0</td>\n",
       "      <td>Delhi-Mumbai</td>\n",
       "      <td>Morning</td>\n",
       "      <td>Morning</td>\n",
       "    </tr>\n",
       "    <tr>\n",
       "      <th>...</th>\n",
       "      <td>...</td>\n",
       "      <td>...</td>\n",
       "      <td>...</td>\n",
       "      <td>...</td>\n",
       "      <td>...</td>\n",
       "      <td>...</td>\n",
       "      <td>...</td>\n",
       "      <td>...</td>\n",
       "      <td>...</td>\n",
       "      <td>...</td>\n",
       "      <td>...</td>\n",
       "      <td>...</td>\n",
       "      <td>...</td>\n",
       "      <td>...</td>\n",
       "    </tr>\n",
       "    <tr>\n",
       "      <th>300256</th>\n",
       "      <td>2023-08-13</td>\n",
       "      <td>Vistara</td>\n",
       "      <td>UK-822</td>\n",
       "      <td>business</td>\n",
       "      <td>Chennai</td>\n",
       "      <td>9</td>\n",
       "      <td>Hyderabad</td>\n",
       "      <td>19</td>\n",
       "      <td>605.0</td>\n",
       "      <td>70304</td>\n",
       "      <td>1</td>\n",
       "      <td>Chennai-Hyderabad</td>\n",
       "      <td>Morning</td>\n",
       "      <td>Night</td>\n",
       "    </tr>\n",
       "    <tr>\n",
       "      <th>300257</th>\n",
       "      <td>2023-08-13</td>\n",
       "      <td>Vistara</td>\n",
       "      <td>UK-826</td>\n",
       "      <td>business</td>\n",
       "      <td>Chennai</td>\n",
       "      <td>12</td>\n",
       "      <td>Hyderabad</td>\n",
       "      <td>22</td>\n",
       "      <td>625.0</td>\n",
       "      <td>78262</td>\n",
       "      <td>1</td>\n",
       "      <td>Chennai-Hyderabad</td>\n",
       "      <td>Afternoon</td>\n",
       "      <td>Late Night</td>\n",
       "    </tr>\n",
       "    <tr>\n",
       "      <th>300258</th>\n",
       "      <td>2023-08-13</td>\n",
       "      <td>Vistara</td>\n",
       "      <td>UK-832</td>\n",
       "      <td>business</td>\n",
       "      <td>Chennai</td>\n",
       "      <td>7</td>\n",
       "      <td>Hyderabad</td>\n",
       "      <td>20</td>\n",
       "      <td>830.0</td>\n",
       "      <td>80285</td>\n",
       "      <td>1</td>\n",
       "      <td>Chennai-Hyderabad</td>\n",
       "      <td>Morning</td>\n",
       "      <td>Night</td>\n",
       "    </tr>\n",
       "    <tr>\n",
       "      <th>300259</th>\n",
       "      <td>2023-08-13</td>\n",
       "      <td>Vistara</td>\n",
       "      <td>UK-828</td>\n",
       "      <td>business</td>\n",
       "      <td>Chennai</td>\n",
       "      <td>7</td>\n",
       "      <td>Hyderabad</td>\n",
       "      <td>17</td>\n",
       "      <td>600.0</td>\n",
       "      <td>82809</td>\n",
       "      <td>1</td>\n",
       "      <td>Chennai-Hyderabad</td>\n",
       "      <td>Morning</td>\n",
       "      <td>Evening</td>\n",
       "    </tr>\n",
       "    <tr>\n",
       "      <th>300260</th>\n",
       "      <td>2023-08-13</td>\n",
       "      <td>Vistara</td>\n",
       "      <td>UK-822</td>\n",
       "      <td>business</td>\n",
       "      <td>Chennai</td>\n",
       "      <td>9</td>\n",
       "      <td>Hyderabad</td>\n",
       "      <td>19</td>\n",
       "      <td>605.0</td>\n",
       "      <td>82809</td>\n",
       "      <td>1</td>\n",
       "      <td>Chennai-Hyderabad</td>\n",
       "      <td>Morning</td>\n",
       "      <td>Night</td>\n",
       "    </tr>\n",
       "  </tbody>\n",
       "</table>\n",
       "<p>300259 rows × 14 columns</p>\n",
       "</div>"
      ],
      "text/plain": [
       "       flight date   airline flight_num     class     from  dep_time  \\\n",
       "0       2023-06-26  SpiceJet    SG-8709   economy    Delhi        18   \n",
       "1       2023-06-26  SpiceJet    SG-8157   economy    Delhi         6   \n",
       "2       2023-06-26   AirAsia     I5-764   economy    Delhi         4   \n",
       "3       2023-06-26   Vistara     UK-995   economy    Delhi        10   \n",
       "4       2023-06-26   Vistara     UK-963   economy    Delhi         8   \n",
       "...            ...       ...        ...       ...      ...       ...   \n",
       "300256  2023-08-13   Vistara     UK-822  business  Chennai         9   \n",
       "300257  2023-08-13   Vistara     UK-826  business  Chennai        12   \n",
       "300258  2023-08-13   Vistara     UK-832  business  Chennai         7   \n",
       "300259  2023-08-13   Vistara     UK-828  business  Chennai         7   \n",
       "300260  2023-08-13   Vistara     UK-822  business  Chennai         9   \n",
       "\n",
       "               to  arr_time  duration  price  stops              route  \\\n",
       "0          Mumbai        21     130.0   6013      0       Delhi-Mumbai   \n",
       "1          Mumbai         8     140.0   6013      0       Delhi-Mumbai   \n",
       "2          Mumbai         6     130.0   6016      0       Delhi-Mumbai   \n",
       "3          Mumbai        12     135.0   6015      0       Delhi-Mumbai   \n",
       "4          Mumbai        11     140.0   6015      0       Delhi-Mumbai   \n",
       "...           ...       ...       ...    ...    ...                ...   \n",
       "300256  Hyderabad        19     605.0  70304      1  Chennai-Hyderabad   \n",
       "300257  Hyderabad        22     625.0  78262      1  Chennai-Hyderabad   \n",
       "300258  Hyderabad        20     830.0  80285      1  Chennai-Hyderabad   \n",
       "300259  Hyderabad        17     600.0  82809      1  Chennai-Hyderabad   \n",
       "300260  Hyderabad        19     605.0  82809      1  Chennai-Hyderabad   \n",
       "\n",
       "            Departure     Arrival  \n",
       "0             Evening       Night  \n",
       "1             Morning     Morning  \n",
       "2       Early Morning     Morning  \n",
       "3             Morning   Afternoon  \n",
       "4             Morning     Morning  \n",
       "...               ...         ...  \n",
       "300256        Morning       Night  \n",
       "300257      Afternoon  Late Night  \n",
       "300258        Morning       Night  \n",
       "300259        Morning     Evening  \n",
       "300260        Morning       Night  \n",
       "\n",
       "[300259 rows x 14 columns]"
      ]
     },
     "execution_count": 25,
     "metadata": {},
     "output_type": "execute_result"
    }
   ],
   "source": [
    "flight_df"
   ]
  },
  {
   "cell_type": "code",
   "execution_count": 26,
   "id": "6c500328-933a-4e98-9b3f-f6f4ed089715",
   "metadata": {},
   "outputs": [
    {
     "data": {
      "text/plain": [
       "(300259, 14)"
      ]
     },
     "execution_count": 26,
     "metadata": {},
     "output_type": "execute_result"
    }
   ],
   "source": [
    "flight_df.shape"
   ]
  },
  {
   "cell_type": "markdown",
   "id": "cd85a8a5-dffe-43cd-9f50-6c790c6c284a",
   "metadata": {},
   "source": [
    "#### dep_time and arr_time no longer needed"
   ]
  },
  {
   "cell_type": "code",
   "execution_count": 27,
   "id": "10e61fe3-bed9-40af-990c-27f08fe7b406",
   "metadata": {},
   "outputs": [],
   "source": [
    "flight_df=flight_df.drop([\"arr_time\",\"dep_time\"],axis=1)"
   ]
  },
  {
   "cell_type": "markdown",
   "id": "b835be8f-087f-4372-9904-55b14eeaeead",
   "metadata": {},
   "source": [
    "# **Cleaned data**"
   ]
  },
  {
   "cell_type": "code",
   "execution_count": 28,
   "id": "fc73f92a-a027-46ea-85bd-7a7521a092ef",
   "metadata": {},
   "outputs": [],
   "source": [
    "flight_df['price'] = flight_df.pop('price')"
   ]
  },
  {
   "cell_type": "code",
   "execution_count": 29,
   "id": "a489869a-b24c-4f46-bd2c-8fa2004f31ec",
   "metadata": {},
   "outputs": [
    {
     "data": {
      "text/html": [
       "<div>\n",
       "<style scoped>\n",
       "    .dataframe tbody tr th:only-of-type {\n",
       "        vertical-align: middle;\n",
       "    }\n",
       "\n",
       "    .dataframe tbody tr th {\n",
       "        vertical-align: top;\n",
       "    }\n",
       "\n",
       "    .dataframe thead th {\n",
       "        text-align: right;\n",
       "    }\n",
       "</style>\n",
       "<table border=\"1\" class=\"dataframe\">\n",
       "  <thead>\n",
       "    <tr style=\"text-align: right;\">\n",
       "      <th></th>\n",
       "      <th>flight date</th>\n",
       "      <th>airline</th>\n",
       "      <th>flight_num</th>\n",
       "      <th>class</th>\n",
       "      <th>from</th>\n",
       "      <th>to</th>\n",
       "      <th>duration</th>\n",
       "      <th>stops</th>\n",
       "      <th>route</th>\n",
       "      <th>Departure</th>\n",
       "      <th>Arrival</th>\n",
       "      <th>price</th>\n",
       "    </tr>\n",
       "  </thead>\n",
       "  <tbody>\n",
       "    <tr>\n",
       "      <th>0</th>\n",
       "      <td>2023-06-26</td>\n",
       "      <td>SpiceJet</td>\n",
       "      <td>SG-8709</td>\n",
       "      <td>economy</td>\n",
       "      <td>Delhi</td>\n",
       "      <td>Mumbai</td>\n",
       "      <td>130.0</td>\n",
       "      <td>0</td>\n",
       "      <td>Delhi-Mumbai</td>\n",
       "      <td>Evening</td>\n",
       "      <td>Night</td>\n",
       "      <td>6013</td>\n",
       "    </tr>\n",
       "    <tr>\n",
       "      <th>1</th>\n",
       "      <td>2023-06-26</td>\n",
       "      <td>SpiceJet</td>\n",
       "      <td>SG-8157</td>\n",
       "      <td>economy</td>\n",
       "      <td>Delhi</td>\n",
       "      <td>Mumbai</td>\n",
       "      <td>140.0</td>\n",
       "      <td>0</td>\n",
       "      <td>Delhi-Mumbai</td>\n",
       "      <td>Morning</td>\n",
       "      <td>Morning</td>\n",
       "      <td>6013</td>\n",
       "    </tr>\n",
       "    <tr>\n",
       "      <th>2</th>\n",
       "      <td>2023-06-26</td>\n",
       "      <td>AirAsia</td>\n",
       "      <td>I5-764</td>\n",
       "      <td>economy</td>\n",
       "      <td>Delhi</td>\n",
       "      <td>Mumbai</td>\n",
       "      <td>130.0</td>\n",
       "      <td>0</td>\n",
       "      <td>Delhi-Mumbai</td>\n",
       "      <td>Early Morning</td>\n",
       "      <td>Morning</td>\n",
       "      <td>6016</td>\n",
       "    </tr>\n",
       "    <tr>\n",
       "      <th>3</th>\n",
       "      <td>2023-06-26</td>\n",
       "      <td>Vistara</td>\n",
       "      <td>UK-995</td>\n",
       "      <td>economy</td>\n",
       "      <td>Delhi</td>\n",
       "      <td>Mumbai</td>\n",
       "      <td>135.0</td>\n",
       "      <td>0</td>\n",
       "      <td>Delhi-Mumbai</td>\n",
       "      <td>Morning</td>\n",
       "      <td>Afternoon</td>\n",
       "      <td>6015</td>\n",
       "    </tr>\n",
       "    <tr>\n",
       "      <th>4</th>\n",
       "      <td>2023-06-26</td>\n",
       "      <td>Vistara</td>\n",
       "      <td>UK-963</td>\n",
       "      <td>economy</td>\n",
       "      <td>Delhi</td>\n",
       "      <td>Mumbai</td>\n",
       "      <td>140.0</td>\n",
       "      <td>0</td>\n",
       "      <td>Delhi-Mumbai</td>\n",
       "      <td>Morning</td>\n",
       "      <td>Morning</td>\n",
       "      <td>6015</td>\n",
       "    </tr>\n",
       "    <tr>\n",
       "      <th>...</th>\n",
       "      <td>...</td>\n",
       "      <td>...</td>\n",
       "      <td>...</td>\n",
       "      <td>...</td>\n",
       "      <td>...</td>\n",
       "      <td>...</td>\n",
       "      <td>...</td>\n",
       "      <td>...</td>\n",
       "      <td>...</td>\n",
       "      <td>...</td>\n",
       "      <td>...</td>\n",
       "      <td>...</td>\n",
       "    </tr>\n",
       "    <tr>\n",
       "      <th>300256</th>\n",
       "      <td>2023-08-13</td>\n",
       "      <td>Vistara</td>\n",
       "      <td>UK-822</td>\n",
       "      <td>business</td>\n",
       "      <td>Chennai</td>\n",
       "      <td>Hyderabad</td>\n",
       "      <td>605.0</td>\n",
       "      <td>1</td>\n",
       "      <td>Chennai-Hyderabad</td>\n",
       "      <td>Morning</td>\n",
       "      <td>Night</td>\n",
       "      <td>70304</td>\n",
       "    </tr>\n",
       "    <tr>\n",
       "      <th>300257</th>\n",
       "      <td>2023-08-13</td>\n",
       "      <td>Vistara</td>\n",
       "      <td>UK-826</td>\n",
       "      <td>business</td>\n",
       "      <td>Chennai</td>\n",
       "      <td>Hyderabad</td>\n",
       "      <td>625.0</td>\n",
       "      <td>1</td>\n",
       "      <td>Chennai-Hyderabad</td>\n",
       "      <td>Afternoon</td>\n",
       "      <td>Late Night</td>\n",
       "      <td>78262</td>\n",
       "    </tr>\n",
       "    <tr>\n",
       "      <th>300258</th>\n",
       "      <td>2023-08-13</td>\n",
       "      <td>Vistara</td>\n",
       "      <td>UK-832</td>\n",
       "      <td>business</td>\n",
       "      <td>Chennai</td>\n",
       "      <td>Hyderabad</td>\n",
       "      <td>830.0</td>\n",
       "      <td>1</td>\n",
       "      <td>Chennai-Hyderabad</td>\n",
       "      <td>Morning</td>\n",
       "      <td>Night</td>\n",
       "      <td>80285</td>\n",
       "    </tr>\n",
       "    <tr>\n",
       "      <th>300259</th>\n",
       "      <td>2023-08-13</td>\n",
       "      <td>Vistara</td>\n",
       "      <td>UK-828</td>\n",
       "      <td>business</td>\n",
       "      <td>Chennai</td>\n",
       "      <td>Hyderabad</td>\n",
       "      <td>600.0</td>\n",
       "      <td>1</td>\n",
       "      <td>Chennai-Hyderabad</td>\n",
       "      <td>Morning</td>\n",
       "      <td>Evening</td>\n",
       "      <td>82809</td>\n",
       "    </tr>\n",
       "    <tr>\n",
       "      <th>300260</th>\n",
       "      <td>2023-08-13</td>\n",
       "      <td>Vistara</td>\n",
       "      <td>UK-822</td>\n",
       "      <td>business</td>\n",
       "      <td>Chennai</td>\n",
       "      <td>Hyderabad</td>\n",
       "      <td>605.0</td>\n",
       "      <td>1</td>\n",
       "      <td>Chennai-Hyderabad</td>\n",
       "      <td>Morning</td>\n",
       "      <td>Night</td>\n",
       "      <td>82809</td>\n",
       "    </tr>\n",
       "  </tbody>\n",
       "</table>\n",
       "<p>300259 rows × 12 columns</p>\n",
       "</div>"
      ],
      "text/plain": [
       "       flight date   airline flight_num     class     from         to  \\\n",
       "0       2023-06-26  SpiceJet    SG-8709   economy    Delhi     Mumbai   \n",
       "1       2023-06-26  SpiceJet    SG-8157   economy    Delhi     Mumbai   \n",
       "2       2023-06-26   AirAsia     I5-764   economy    Delhi     Mumbai   \n",
       "3       2023-06-26   Vistara     UK-995   economy    Delhi     Mumbai   \n",
       "4       2023-06-26   Vistara     UK-963   economy    Delhi     Mumbai   \n",
       "...            ...       ...        ...       ...      ...        ...   \n",
       "300256  2023-08-13   Vistara     UK-822  business  Chennai  Hyderabad   \n",
       "300257  2023-08-13   Vistara     UK-826  business  Chennai  Hyderabad   \n",
       "300258  2023-08-13   Vistara     UK-832  business  Chennai  Hyderabad   \n",
       "300259  2023-08-13   Vistara     UK-828  business  Chennai  Hyderabad   \n",
       "300260  2023-08-13   Vistara     UK-822  business  Chennai  Hyderabad   \n",
       "\n",
       "        duration  stops              route      Departure     Arrival  price  \n",
       "0          130.0      0       Delhi-Mumbai        Evening       Night   6013  \n",
       "1          140.0      0       Delhi-Mumbai        Morning     Morning   6013  \n",
       "2          130.0      0       Delhi-Mumbai  Early Morning     Morning   6016  \n",
       "3          135.0      0       Delhi-Mumbai        Morning   Afternoon   6015  \n",
       "4          140.0      0       Delhi-Mumbai        Morning     Morning   6015  \n",
       "...          ...    ...                ...            ...         ...    ...  \n",
       "300256     605.0      1  Chennai-Hyderabad        Morning       Night  70304  \n",
       "300257     625.0      1  Chennai-Hyderabad      Afternoon  Late Night  78262  \n",
       "300258     830.0      1  Chennai-Hyderabad        Morning       Night  80285  \n",
       "300259     600.0      1  Chennai-Hyderabad        Morning     Evening  82809  \n",
       "300260     605.0      1  Chennai-Hyderabad        Morning       Night  82809  \n",
       "\n",
       "[300259 rows x 12 columns]"
      ]
     },
     "execution_count": 29,
     "metadata": {},
     "output_type": "execute_result"
    }
   ],
   "source": [
    "flight_df"
   ]
  },
  {
   "cell_type": "code",
   "execution_count": 30,
   "id": "a82ec15f-bf02-4a1b-b2eb-86937d168709",
   "metadata": {},
   "outputs": [],
   "source": [
    "flight_df.to_csv(\"cleaned_data\")"
   ]
  },
  {
   "cell_type": "markdown",
   "id": "9902d4bb-3ff1-42c8-939e-435a1260bb89",
   "metadata": {},
   "source": [
    "# **Data Visualization & Key Insights** "
   ]
  },
  {
   "cell_type": "code",
   "execution_count": 31,
   "id": "31c26e13-10ac-47fe-a12b-8cf1d6d0444f",
   "metadata": {},
   "outputs": [
    {
     "data": {
      "text/html": [
       "<div>\n",
       "<style scoped>\n",
       "    .dataframe tbody tr th:only-of-type {\n",
       "        vertical-align: middle;\n",
       "    }\n",
       "\n",
       "    .dataframe tbody tr th {\n",
       "        vertical-align: top;\n",
       "    }\n",
       "\n",
       "    .dataframe thead th {\n",
       "        text-align: right;\n",
       "    }\n",
       "</style>\n",
       "<table border=\"1\" class=\"dataframe\">\n",
       "  <thead>\n",
       "    <tr style=\"text-align: right;\">\n",
       "      <th></th>\n",
       "      <th>flight date</th>\n",
       "      <th>airline</th>\n",
       "      <th>flight_num</th>\n",
       "      <th>class</th>\n",
       "      <th>from</th>\n",
       "      <th>to</th>\n",
       "      <th>duration</th>\n",
       "      <th>stops</th>\n",
       "      <th>route</th>\n",
       "      <th>Departure</th>\n",
       "      <th>Arrival</th>\n",
       "      <th>price</th>\n",
       "    </tr>\n",
       "  </thead>\n",
       "  <tbody>\n",
       "    <tr>\n",
       "      <th>0</th>\n",
       "      <td>2023-06-26</td>\n",
       "      <td>SpiceJet</td>\n",
       "      <td>SG-8709</td>\n",
       "      <td>economy</td>\n",
       "      <td>Delhi</td>\n",
       "      <td>Mumbai</td>\n",
       "      <td>130.0</td>\n",
       "      <td>0</td>\n",
       "      <td>Delhi-Mumbai</td>\n",
       "      <td>Evening</td>\n",
       "      <td>Night</td>\n",
       "      <td>6013</td>\n",
       "    </tr>\n",
       "    <tr>\n",
       "      <th>1</th>\n",
       "      <td>2023-06-26</td>\n",
       "      <td>SpiceJet</td>\n",
       "      <td>SG-8157</td>\n",
       "      <td>economy</td>\n",
       "      <td>Delhi</td>\n",
       "      <td>Mumbai</td>\n",
       "      <td>140.0</td>\n",
       "      <td>0</td>\n",
       "      <td>Delhi-Mumbai</td>\n",
       "      <td>Morning</td>\n",
       "      <td>Morning</td>\n",
       "      <td>6013</td>\n",
       "    </tr>\n",
       "    <tr>\n",
       "      <th>2</th>\n",
       "      <td>2023-06-26</td>\n",
       "      <td>AirAsia</td>\n",
       "      <td>I5-764</td>\n",
       "      <td>economy</td>\n",
       "      <td>Delhi</td>\n",
       "      <td>Mumbai</td>\n",
       "      <td>130.0</td>\n",
       "      <td>0</td>\n",
       "      <td>Delhi-Mumbai</td>\n",
       "      <td>Early Morning</td>\n",
       "      <td>Morning</td>\n",
       "      <td>6016</td>\n",
       "    </tr>\n",
       "    <tr>\n",
       "      <th>3</th>\n",
       "      <td>2023-06-26</td>\n",
       "      <td>Vistara</td>\n",
       "      <td>UK-995</td>\n",
       "      <td>economy</td>\n",
       "      <td>Delhi</td>\n",
       "      <td>Mumbai</td>\n",
       "      <td>135.0</td>\n",
       "      <td>0</td>\n",
       "      <td>Delhi-Mumbai</td>\n",
       "      <td>Morning</td>\n",
       "      <td>Afternoon</td>\n",
       "      <td>6015</td>\n",
       "    </tr>\n",
       "    <tr>\n",
       "      <th>4</th>\n",
       "      <td>2023-06-26</td>\n",
       "      <td>Vistara</td>\n",
       "      <td>UK-963</td>\n",
       "      <td>economy</td>\n",
       "      <td>Delhi</td>\n",
       "      <td>Mumbai</td>\n",
       "      <td>140.0</td>\n",
       "      <td>0</td>\n",
       "      <td>Delhi-Mumbai</td>\n",
       "      <td>Morning</td>\n",
       "      <td>Morning</td>\n",
       "      <td>6015</td>\n",
       "    </tr>\n",
       "  </tbody>\n",
       "</table>\n",
       "</div>"
      ],
      "text/plain": [
       "  flight date   airline flight_num    class   from      to  duration  stops  \\\n",
       "0  2023-06-26  SpiceJet    SG-8709  economy  Delhi  Mumbai     130.0      0   \n",
       "1  2023-06-26  SpiceJet    SG-8157  economy  Delhi  Mumbai     140.0      0   \n",
       "2  2023-06-26   AirAsia     I5-764  economy  Delhi  Mumbai     130.0      0   \n",
       "3  2023-06-26   Vistara     UK-995  economy  Delhi  Mumbai     135.0      0   \n",
       "4  2023-06-26   Vistara     UK-963  economy  Delhi  Mumbai     140.0      0   \n",
       "\n",
       "          route      Departure    Arrival  price  \n",
       "0  Delhi-Mumbai        Evening      Night   6013  \n",
       "1  Delhi-Mumbai        Morning    Morning   6013  \n",
       "2  Delhi-Mumbai  Early Morning    Morning   6016  \n",
       "3  Delhi-Mumbai        Morning  Afternoon   6015  \n",
       "4  Delhi-Mumbai        Morning    Morning   6015  "
      ]
     },
     "execution_count": 31,
     "metadata": {},
     "output_type": "execute_result"
    }
   ],
   "source": [
    "flight_df.head()"
   ]
  },
  {
   "cell_type": "markdown",
   "id": "2279200b-cc07-4568-a8b2-d48e87b009de",
   "metadata": {},
   "source": [
    "### **1. Airline vs number of flights.**"
   ]
  },
  {
   "cell_type": "code",
   "execution_count": 32,
   "id": "86e89bab-f567-4b9f-b0d7-b194c95ffb16",
   "metadata": {},
   "outputs": [
    {
     "data": {
      "image/png": "[encoded data removed]",
      "text/plain": [
       "<Figure size 1000x500 with 1 Axes>"
      ]
     },
     "metadata": {},
     "output_type": "display_data"
    }
   ],
   "source": [
    "route_counts = flight_df['route'].value_counts()\n",
    "\n",
    "# Identify the route with the maximum count\n",
    "max_route = flight_df.airline.value_counts().idxmax()\n",
    "max_count = flight_df.airline.value_counts().max()\n",
    "\n",
    "# Create the countplot\n",
    "plt.figure(figsize=(10, 5))\n",
    "ax = sns.countplot(x='airline', data=flight_df, order=flight_df.airline.value_counts().index, color=\"yellow\")\n",
    "\n",
    "# Highlight the max bar\n",
    "for p in ax.patches:\n",
    "    if p.get_height() == max_count:  \n",
    "        p.set_facecolor(\"red\")  \n",
    "for i in ax.containers:\n",
    "    ax.bar_label(i)\n",
    "\n",
    "plt.title(\"Airline Count with Maximum Highlighted\")\n",
    "plt.xticks(rotation=70)\n",
    "plt.show()"
   ]
  },
  {
   "cell_type": "code",
   "execution_count": 33,
   "id": "bb5704d3-8a03-4d48-b204-9c5888e09071",
   "metadata": {},
   "outputs": [
    {
     "data": {
      "image/png": "[encoded data removed]",
      "text/plain": [
       "<Figure size 500x500 with 1 Axes>"
      ]
     },
     "metadata": {},
     "output_type": "display_data"
    }
   ],
   "source": [
    "airline= flight_df['airline'].value_counts()\n",
    "\n",
    "plt.figure(figsize=(5,5))\n",
    "plt.pie(airline, labels=airline.index, autopct='%1.1f%%', colors=sns.color_palette(\"Set2\", len(airline)))\n",
    "\n",
    "plt.title(\"flight count percetange\")\n",
    "plt.show()\n"
   ]
  },
  {
   "cell_type": "markdown",
   "id": "f9a688fe-6ac7-4506-b752-0465e9c268a1",
   "metadata": {},
   "source": [
    "## **Insights :** \n",
    "-  ### Vistara, operating the highest number of flights, is ranked first.\n",
    "-  ### While TruJet has the lowest and appears last.\""
   ]
  },
  {
   "cell_type": "code",
   "execution_count": 34,
   "id": "89e5eccf-a8cf-46d1-a32a-9630c0214275",
   "metadata": {},
   "outputs": [
    {
     "data": {
      "text/plain": [
       "class\n",
       "economy     206772\n",
       "business     93487\n",
       "Name: count, dtype: int64"
      ]
     },
     "execution_count": 34,
     "metadata": {},
     "output_type": "execute_result"
    }
   ],
   "source": [
    "flight_df['class'].value_counts()"
   ]
  },
  {
   "cell_type": "markdown",
   "id": "21acb83f-10d8-4cf8-9136-74022c7d1dea",
   "metadata": {},
   "source": [
    "### **2. Price Distribution by Airline and Class.**"
   ]
  },
  {
   "cell_type": "code",
   "execution_count": 35,
   "id": "cb9e3c03-5772-4ce4-845c-a38c03be86a3",
   "metadata": {},
   "outputs": [
    {
     "data": {
      "text/html": [
       "<div>\n",
       "<style scoped>\n",
       "    .dataframe tbody tr th:only-of-type {\n",
       "        vertical-align: middle;\n",
       "    }\n",
       "\n",
       "    .dataframe tbody tr th {\n",
       "        vertical-align: top;\n",
       "    }\n",
       "\n",
       "    .dataframe thead th {\n",
       "        text-align: right;\n",
       "    }\n",
       "</style>\n",
       "<table border=\"1\" class=\"dataframe\">\n",
       "  <thead>\n",
       "    <tr style=\"text-align: right;\">\n",
       "      <th></th>\n",
       "      <th>airline</th>\n",
       "      <th>class</th>\n",
       "      <th>price</th>\n",
       "    </tr>\n",
       "  </thead>\n",
       "  <tbody>\n",
       "    <tr>\n",
       "      <th>8</th>\n",
       "      <td>Vistara</td>\n",
       "      <td>business</td>\n",
       "      <td>56309.20</td>\n",
       "    </tr>\n",
       "    <tr>\n",
       "      <th>0</th>\n",
       "      <td>Air India</td>\n",
       "      <td>business</td>\n",
       "      <td>47838.00</td>\n",
       "    </tr>\n",
       "    <tr>\n",
       "      <th>9</th>\n",
       "      <td>Vistara</td>\n",
       "      <td>economy</td>\n",
       "      <td>7885.02</td>\n",
       "    </tr>\n",
       "    <tr>\n",
       "      <th>1</th>\n",
       "      <td>Air India</td>\n",
       "      <td>economy</td>\n",
       "      <td>7386.84</td>\n",
       "    </tr>\n",
       "    <tr>\n",
       "      <th>5</th>\n",
       "      <td>SpiceJet</td>\n",
       "      <td>economy</td>\n",
       "      <td>6241.05</td>\n",
       "    </tr>\n",
       "    <tr>\n",
       "      <th>3</th>\n",
       "      <td>GO FIRST</td>\n",
       "      <td>economy</td>\n",
       "      <td>5708.46</td>\n",
       "    </tr>\n",
       "    <tr>\n",
       "      <th>4</th>\n",
       "      <td>Indigo</td>\n",
       "      <td>economy</td>\n",
       "      <td>5377.49</td>\n",
       "    </tr>\n",
       "    <tr>\n",
       "      <th>6</th>\n",
       "      <td>StarAir</td>\n",
       "      <td>economy</td>\n",
       "      <td>4982.02</td>\n",
       "    </tr>\n",
       "    <tr>\n",
       "      <th>2</th>\n",
       "      <td>AirAsia</td>\n",
       "      <td>economy</td>\n",
       "      <td>4132.03</td>\n",
       "    </tr>\n",
       "    <tr>\n",
       "      <th>7</th>\n",
       "      <td>Trujet</td>\n",
       "      <td>economy</td>\n",
       "      <td>3277.10</td>\n",
       "    </tr>\n",
       "  </tbody>\n",
       "</table>\n",
       "</div>"
      ],
      "text/plain": [
       "     airline     class     price\n",
       "8    Vistara  business  56309.20\n",
       "0  Air India  business  47838.00\n",
       "9    Vistara   economy   7885.02\n",
       "1  Air India   economy   7386.84\n",
       "5   SpiceJet   economy   6241.05\n",
       "3   GO FIRST   economy   5708.46\n",
       "4     Indigo   economy   5377.49\n",
       "6    StarAir   economy   4982.02\n",
       "2    AirAsia   economy   4132.03\n",
       "7     Trujet   economy   3277.10"
      ]
     },
     "execution_count": 35,
     "metadata": {},
     "output_type": "execute_result"
    }
   ],
   "source": [
    "avgprices=flight_df.groupby(['airline', 'class'])['price'].mean().reset_index().round(2)\n",
    "avgprices.sort_values(by='price',ascending=False)"
   ]
  },
  {
   "cell_type": "code",
   "execution_count": 36,
   "id": "ecd2f728-6ff9-4f3b-9049-459d69d2acbe",
   "metadata": {},
   "outputs": [
    {
     "data": {
      "image/png": "[encoded data removed]",
      "text/plain": [
       "<Figure size 1000x600 with 1 Axes>"
      ]
     },
     "metadata": {},
     "output_type": "display_data"
    }
   ],
   "source": [
    "plt.figure(figsize=(10, 6))\n",
    "sns.boxplot(data=flight_df, x='airline', y='price', hue='class')\n",
    "plt.title('Price Distribution by Airline and Class')\n",
    "plt.xticks(rotation=45)\n",
    "plt.xlabel('Airline')\n",
    "plt.ylabel('Price')\n",
    "plt.show()"
   ]
  },
  {
   "cell_type": "code",
   "execution_count": 37,
   "id": "855517bd-1d56-4505-a1d4-4c35cebc119f",
   "metadata": {},
   "outputs": [
    {
     "data": {
      "text/plain": [
       "30"
      ]
     },
     "execution_count": 37,
     "metadata": {},
     "output_type": "execute_result"
    }
   ],
   "source": [
    "len(flight_df.route.value_counts().index)"
   ]
  },
  {
   "cell_type": "markdown",
   "id": "4e9b19d0-0b02-4ca5-9195-45eb3e06279f",
   "metadata": {},
   "source": [
    "## **Insights :** \n",
    "-  ### From this vistara dominates both economy and business.\n",
    "-  ### For a more accurate analysis, we need to consider the route as well. However, with 30 different routes, a deeper analysis is required.\"\n"
   ]
  },
  {
   "cell_type": "code",
   "execution_count": 38,
   "id": "c71c3573-2f35-4b17-b737-6f3076f0ee08",
   "metadata": {},
   "outputs": [
    {
     "data": {
      "image/png": "[encoded data removed]",
      "text/plain": [
       "<Figure size 640x480 with 1 Axes>"
      ]
     },
     "metadata": {},
     "output_type": "display_data"
    }
   ],
   "source": [
    "sns.countplot(flight_df,x='route',order=flight_df.route.value_counts().index)\n",
    "plt.show()"
   ]
  },
  {
   "cell_type": "markdown",
   "id": "f6b2ddad-c0c0-4a9d-a3e8-6970fc01a4a2",
   "metadata": {},
   "source": [
    "### From this, we select the top 5 busiest routes and plot them accordingly."
   ]
  },
  {
   "cell_type": "code",
   "execution_count": 39,
   "id": "83e86375-1f80-41a7-ba77-204637f40c21",
   "metadata": {},
   "outputs": [
    {
     "data": {
      "image/png": "[encoded data removed]",
      "text/plain": [
       "<Figure size 1000x500 with 1 Axes>"
      ]
     },
     "metadata": {},
     "output_type": "display_data"
    }
   ],
   "source": [
    "# Compute value counts once and store it\n",
    "route_counts = flight_df.route.value_counts()\n",
    "\n",
    "# Plot using the stored value counts\n",
    "plt.figure(figsize=(10,5))\n",
    "sns.barplot(x=route_counts.head(5).index, y=route_counts.head(5).values, hue=route_counts.head(5).index,palette=\"Blues_r\")\n",
    "plt.xlabel(\"Route\")\n",
    "plt.ylabel(\"Number of Flights\")\n",
    "plt.title(\"Top 5 Busiest Routes\")\n",
    "plt.xticks(rotation=45)\n",
    "plt.show()"
   ]
  },
  {
   "cell_type": "markdown",
   "id": "e059eaed-4444-4d58-b2e0-5b7c22d830ad",
   "metadata": {},
   "source": [
    "### Analysing Based on these routes"
   ]
  },
  {
   "cell_type": "code",
   "execution_count": 40,
   "id": "6cf20dea-647c-44dd-9830-c24cdca155a4",
   "metadata": {},
   "outputs": [
    {
     "data": {
      "text/html": [
       "<div>\n",
       "<style scoped>\n",
       "    .dataframe tbody tr th:only-of-type {\n",
       "        vertical-align: middle;\n",
       "    }\n",
       "\n",
       "    .dataframe tbody tr th {\n",
       "        vertical-align: top;\n",
       "    }\n",
       "\n",
       "    .dataframe thead th {\n",
       "        text-align: right;\n",
       "    }\n",
       "</style>\n",
       "<table border=\"1\" class=\"dataframe\">\n",
       "  <thead>\n",
       "    <tr style=\"text-align: right;\">\n",
       "      <th></th>\n",
       "      <th>route</th>\n",
       "      <th>airline</th>\n",
       "      <th>class</th>\n",
       "      <th>price</th>\n",
       "    </tr>\n",
       "  </thead>\n",
       "  <tbody>\n",
       "    <tr>\n",
       "      <th>6</th>\n",
       "      <td>Bangalore-Delhi</td>\n",
       "      <td>Vistara</td>\n",
       "      <td>business</td>\n",
       "      <td>51918.56</td>\n",
       "    </tr>\n",
       "    <tr>\n",
       "      <th>0</th>\n",
       "      <td>Bangalore-Delhi</td>\n",
       "      <td>Air India</td>\n",
       "      <td>business</td>\n",
       "      <td>41218.22</td>\n",
       "    </tr>\n",
       "    <tr>\n",
       "      <th>5</th>\n",
       "      <td>Bangalore-Delhi</td>\n",
       "      <td>SpiceJet</td>\n",
       "      <td>economy</td>\n",
       "      <td>6970.73</td>\n",
       "    </tr>\n",
       "    <tr>\n",
       "      <th>1</th>\n",
       "      <td>Bangalore-Delhi</td>\n",
       "      <td>Air India</td>\n",
       "      <td>economy</td>\n",
       "      <td>6855.78</td>\n",
       "    </tr>\n",
       "    <tr>\n",
       "      <th>7</th>\n",
       "      <td>Bangalore-Delhi</td>\n",
       "      <td>Vistara</td>\n",
       "      <td>economy</td>\n",
       "      <td>6570.47</td>\n",
       "    </tr>\n",
       "  </tbody>\n",
       "</table>\n",
       "</div>"
      ],
      "text/plain": [
       "             route    airline     class     price\n",
       "6  Bangalore-Delhi    Vistara  business  51918.56\n",
       "0  Bangalore-Delhi  Air India  business  41218.22\n",
       "5  Bangalore-Delhi   SpiceJet   economy   6970.73\n",
       "1  Bangalore-Delhi  Air India   economy   6855.78\n",
       "7  Bangalore-Delhi    Vistara   economy   6570.47"
      ]
     },
     "execution_count": 40,
     "metadata": {},
     "output_type": "execute_result"
    }
   ],
   "source": [
    "top_routes = flight_df['route'].value_counts().head(5).index\n",
    "\n",
    "# Filter dataset to include only top 5 routes\n",
    "filtered_df = flight_df[flight_df['route'].isin(top_routes)]\n",
    "\n",
    "# Compute average price grouped by route first, then airline and class\n",
    "avgprices = (\n",
    "    filtered_df.groupby(['route', 'airline', 'class'])['price']\n",
    "    .mean()\n",
    "    .reset_index()\n",
    "    .round(2)\n",
    ")\n",
    "\n",
    "# Sort by route first, then by price in descending order\n",
    "avgprices = avgprices.sort_values(by=['route', 'price'], ascending=[True, False])\n",
    "\n",
    "avgprices.head()"
   ]
  },
  {
   "cell_type": "code",
   "execution_count": 41,
   "id": "166ad132-094c-496c-9921-c42dacac6cdc",
   "metadata": {},
   "outputs": [
    {
     "data": {
      "image/png": "[encoded data removed]",
      "text/plain": [
       "<Figure size 1200x600 with 1 Axes>"
      ]
     },
     "metadata": {},
     "output_type": "display_data"
    }
   ],
   "source": [
    "# Get top 5 busiest routes\n",
    "\n",
    "# Create the boxplot\n",
    "plt.figure(figsize=(12, 6))\n",
    "sns.boxplot(data=filtered_df, x='airline', y='price', hue='class')\n",
    "plt.title('Price Distribution by Airline and Class for Top 5 Routes')\n",
    "plt.xticks(rotation=45)\n",
    "plt.xlabel('Airline')\n",
    "plt.ylabel('Price')\n",
    "\n",
    "plt.legend(title=\"Class\", bbox_to_anchor=(1.05, 1), loc='upper left')  # Move legend outside\n",
    "plt.show()\n"
   ]
  },
  {
   "cell_type": "markdown",
   "id": "8cca7714-a471-46bc-b63c-0f102d60206f",
   "metadata": {},
   "source": [
    "## **Insights :**\n",
    "- ###  **Vistara** leads in **Business Class pricing**, consistently having the highest fares across routes.  \n",
    "- ###  **AirAsia and Indigo** dominate **low-cost travel**, offering the most affordable Economy fares.  \n",
    "- ###  **Route pricing trends** indicate that **Mumbai-Delhi and Delhi-Mumbai** have slightly lower fares than Bangalore routes.\n"
   ]
  },
  {
   "cell_type": "code",
   "execution_count": 42,
   "id": "ee5e5fd0-e23f-47d8-a704-38f4e7512f56",
   "metadata": {},
   "outputs": [
    {
     "data": {
      "image/png": "[encoded data removed]",
      "text/plain": [
       "<Figure size 500x500 with 1 Axes>"
      ]
     },
     "metadata": {},
     "output_type": "display_data"
    }
   ],
   "source": [
    "class_counts = flight_df['class'].value_counts()\n",
    "\n",
    "plt.figure(figsize=(5,5))\n",
    "plt.pie(class_counts, labels=class_counts.index, autopct='%1.1f%%', colors=sns.color_palette(\"Set2\", len(class_counts)))\n",
    "\n",
    "plt.title(\"Class count percetange\")\n",
    "plt.show()\n"
   ]
  },
  {
   "cell_type": "code",
   "execution_count": 43,
   "id": "f3d8d310-bbda-4d12-a254-e68c75d848ae",
   "metadata": {},
   "outputs": [
    {
     "data": {
      "text/html": [
       "<div>\n",
       "<style scoped>\n",
       "    .dataframe tbody tr th:only-of-type {\n",
       "        vertical-align: middle;\n",
       "    }\n",
       "\n",
       "    .dataframe tbody tr th {\n",
       "        vertical-align: top;\n",
       "    }\n",
       "\n",
       "    .dataframe thead th {\n",
       "        text-align: right;\n",
       "    }\n",
       "</style>\n",
       "<table border=\"1\" class=\"dataframe\">\n",
       "  <thead>\n",
       "    <tr style=\"text-align: right;\">\n",
       "      <th></th>\n",
       "      <th>route</th>\n",
       "      <th>airline</th>\n",
       "      <th>price</th>\n",
       "    </tr>\n",
       "  </thead>\n",
       "  <tbody>\n",
       "    <tr>\n",
       "      <th>1</th>\n",
       "      <td>Bangalore-Delhi</td>\n",
       "      <td>AirAsia</td>\n",
       "      <td>4855.132221</td>\n",
       "    </tr>\n",
       "    <tr>\n",
       "      <th>2</th>\n",
       "      <td>Bangalore-Delhi</td>\n",
       "      <td>GO FIRST</td>\n",
       "      <td>5579.936376</td>\n",
       "    </tr>\n",
       "    <tr>\n",
       "      <th>7</th>\n",
       "      <td>Delhi-Bangalore</td>\n",
       "      <td>AirAsia</td>\n",
       "      <td>5369.578438</td>\n",
       "    </tr>\n",
       "    <tr>\n",
       "      <th>8</th>\n",
       "      <td>Delhi-Bangalore</td>\n",
       "      <td>GO FIRST</td>\n",
       "      <td>5716.999328</td>\n",
       "    </tr>\n",
       "    <tr>\n",
       "      <th>13</th>\n",
       "      <td>Delhi-Mumbai</td>\n",
       "      <td>AirAsia</td>\n",
       "      <td>4020.893987</td>\n",
       "    </tr>\n",
       "    <tr>\n",
       "      <th>15</th>\n",
       "      <td>Delhi-Mumbai</td>\n",
       "      <td>Indigo</td>\n",
       "      <td>4518.508454</td>\n",
       "    </tr>\n",
       "    <tr>\n",
       "      <th>21</th>\n",
       "      <td>Mumbai-Delhi</td>\n",
       "      <td>Indigo</td>\n",
       "      <td>3974.526962</td>\n",
       "    </tr>\n",
       "    <tr>\n",
       "      <th>19</th>\n",
       "      <td>Mumbai-Delhi</td>\n",
       "      <td>AirAsia</td>\n",
       "      <td>4065.704698</td>\n",
       "    </tr>\n",
       "    <tr>\n",
       "      <th>25</th>\n",
       "      <td>Mumbai-Kolkata</td>\n",
       "      <td>AirAsia</td>\n",
       "      <td>4017.429806</td>\n",
       "    </tr>\n",
       "    <tr>\n",
       "      <th>26</th>\n",
       "      <td>Mumbai-Kolkata</td>\n",
       "      <td>GO FIRST</td>\n",
       "      <td>6167.523478</td>\n",
       "    </tr>\n",
       "  </tbody>\n",
       "</table>\n",
       "</div>"
      ],
      "text/plain": [
       "              route   airline        price\n",
       "1   Bangalore-Delhi   AirAsia  4855.132221\n",
       "2   Bangalore-Delhi  GO FIRST  5579.936376\n",
       "7   Delhi-Bangalore   AirAsia  5369.578438\n",
       "8   Delhi-Bangalore  GO FIRST  5716.999328\n",
       "13     Delhi-Mumbai   AirAsia  4020.893987\n",
       "15     Delhi-Mumbai    Indigo  4518.508454\n",
       "21     Mumbai-Delhi    Indigo  3974.526962\n",
       "19     Mumbai-Delhi   AirAsia  4065.704698\n",
       "25   Mumbai-Kolkata   AirAsia  4017.429806\n",
       "26   Mumbai-Kolkata  GO FIRST  6167.523478"
      ]
     },
     "execution_count": 43,
     "metadata": {},
     "output_type": "execute_result"
    }
   ],
   "source": [
    "df_economy = flight_df[flight_df[\"class\"] == \"economy\"] # Filter only economy class\n",
    "\n",
    "busiest_routes = df_economy[\"route\"].value_counts().nlargest(5).index \n",
    "\n",
    "df_busiest = df_economy[df_economy[\"route\"].isin(busiest_routes)] # Filter for only the top 5 busiest routes\n",
    "\n",
    "mean_prices = df_busiest.groupby([\"route\", \"airline\"])[\"price\"].mean().reset_index() # Filter for only the top 5 busiest routes\n",
    "\n",
    "mean_prices = mean_prices.sort_values(by=[\"route\", \"price\"])\n",
    "best_airlines = mean_prices.groupby(\"route\").head(2) # lowest and second-lowest price for each route\n",
    "best_airlines\n"
   ]
  },
  {
   "cell_type": "code",
   "execution_count": 44,
   "id": "0953a226-0174-4cc0-ad67-66863fc82567",
   "metadata": {},
   "outputs": [
    {
     "data": {
      "image/png": "[encoded data removed]",
      "text/plain": [
       "<Figure size 1000x500 with 1 Axes>"
      ]
     },
     "metadata": {},
     "output_type": "display_data"
    }
   ],
   "source": [
    "# Plot the bar chart\n",
    "plt.figure(figsize=(10, 5))\n",
    "sns.barplot(x=\"route\", y=\"price\", hue=\"airline\", data=best_airlines, palette=\"Set2\")\n",
    "\n",
    "# Formatting the chart\n",
    "plt.title(\"Cheapest and Second Cheapest Airlines on the 5 Busiest Routes (Economy Class)\")\n",
    "plt.xlabel(\"Route\")\n",
    "plt.ylabel(\"Average Price (INR)\")\n",
    "plt.xticks(rotation=45)\n",
    "plt.legend(title=\"Airline\")\n",
    "plt.show()\n",
    "\n"
   ]
  },
  {
   "cell_type": "markdown",
   "id": "0d0d4a1b-0ae9-4b11-ab33-a5e153866c80",
   "metadata": {},
   "source": [
    "## **Insights :**\n",
    "- ### **AirAsia is the best choice for budget travelers as it has the lowest economy fares on 4 of the 5 busiest routes: Bangalore-Delhi, Delhi-Bangalore, Delhi-Mumbai, and Mumbai-Delhi.**"
   ]
  },
  {
   "cell_type": "code",
   "execution_count": 45,
   "id": "96da385c-d598-471c-b5e9-f5f699580711",
   "metadata": {},
   "outputs": [
    {
     "ename": "NameError",
     "evalue": "name 'top_route_df' is not defined",
     "output_type": "error",
     "traceback": [
      "\u001b[0;31m---------------------------------------------------------------------------\u001b[0m",
      "\u001b[0;31mNameError\u001b[0m                                 Traceback (most recent call last)",
      "Cell \u001b[0;32mIn[45], line 2\u001b[0m\n\u001b[1;32m      1\u001b[0m plt\u001b[38;5;241m.\u001b[39mfigure(figsize\u001b[38;5;241m=\u001b[39m(\u001b[38;5;241m12\u001b[39m, \u001b[38;5;241m6\u001b[39m))\n\u001b[0;32m----> 2\u001b[0m sns\u001b[38;5;241m.\u001b[39mboxplot(x\u001b[38;5;241m=\u001b[39m\u001b[38;5;124m\"\u001b[39m\u001b[38;5;124mroute\u001b[39m\u001b[38;5;124m\"\u001b[39m, y\u001b[38;5;241m=\u001b[39m\u001b[38;5;124m\"\u001b[39m\u001b[38;5;124mduration\u001b[39m\u001b[38;5;124m\"\u001b[39m, data\u001b[38;5;241m=\u001b[39m\u001b[43mtop_route_df\u001b[49m)\n\u001b[1;32m      3\u001b[0m plt\u001b[38;5;241m.\u001b[39mtitle(\u001b[38;5;124m\"\u001b[39m\u001b[38;5;124mDistribution of Flight Duration by Route\u001b[39m\u001b[38;5;124m\"\u001b[39m)\n\u001b[1;32m      4\u001b[0m plt\u001b[38;5;241m.\u001b[39mxlabel(\u001b[38;5;124m\"\u001b[39m\u001b[38;5;124mRoute\u001b[39m\u001b[38;5;124m\"\u001b[39m)\n",
      "\u001b[0;31mNameError\u001b[0m: name 'top_route_df' is not defined"
     ]
    },
    {
     "data": {
      "text/plain": [
       "<Figure size 1200x600 with 0 Axes>"
      ]
     },
     "metadata": {},
     "output_type": "display_data"
    }
   ],
   "source": [
    "plt.figure(figsize=(12, 6))\n",
    "sns.boxplot(x=\"route\", y=\"duration\", data=top_route_df)\n",
    "plt.title(\"Distribution of Flight Duration by Route\")\n",
    "plt.xlabel(\"Route\")\n",
    "plt.ylabel(\"Duration (minutes)\")\n",
    "plt.xticks(rotation=45)  # Rotate x-axis labels for better readability\n",
    "plt.grid(axis=\"y\", linestyle=\"--\", alpha=0.7)\n",
    "plt.show()\n",
    "\n"
   ]
  },
  {
   "cell_type": "markdown",
   "id": "34cf6940-5182-46c6-9bd7-2f415986e31e",
   "metadata": {},
   "source": [
    "- ### **There are many outliers in the duration, which may be caused by the number of stops.**"
   ]
  },
  {
   "cell_type": "code",
   "execution_count": null,
   "id": "0e3cd7d9-2250-48d9-ab64-93cdbbf68109",
   "metadata": {},
   "outputs": [],
   "source": [
    "sns.boxplot(x=\"route\", y=\"duration\", data=top_route_df, hue=\"stops\", palette=\"coolwarm\")\n",
    "\n",
    "plt.title(\"Distribution of Flight Duration by Route (Grouped by Stops)\")\n",
    "plt.xlabel(\"Route\")\n",
    "plt.ylabel(\"Duration (minutes)\")\n",
    "plt.xticks(rotation=45)  # Rotate x-axis labels for better readability\n",
    "plt.legend(title=\"Stops\")\n",
    "plt.grid(axis=\"y\", linestyle=\"--\", alpha=0.7)"
   ]
  },
  {
   "cell_type": "markdown",
   "id": "ecb19964-310f-4d25-893b-b9504b01004c",
   "metadata": {},
   "source": [
    "## **Insights :**\n",
    "- ### **outliers detected!**\n",
    "- ### **It's likely due to long layovers, operational delays, or indirect routes.**\n",
    "- ### **Non-stop flights generally have the lowest and most consistent durations..**"
   ]
  },
  {
   "cell_type": "code",
   "execution_count": null,
   "id": "3d7b2276-a142-488a-9db2-6e9ef659b065",
   "metadata": {},
   "outputs": [],
   "source": [
    "flight_df.head()"
   ]
  },
  {
   "cell_type": "markdown",
   "id": "5f4f9bcf-f3dd-4536-bc53-cba751256dc9",
   "metadata": {},
   "source": [
    "## Analysis based on flight time"
   ]
  },
  {
   "cell_type": "code",
   "execution_count": null,
   "id": "a7e6380f-7877-48fc-b3cd-50c2183eb3de",
   "metadata": {},
   "outputs": [],
   "source": [
    "fig, axes = plt.subplots(1, 2, figsize=(15, 6))\n",
    "\n",
    "#Countplot for Departure\n",
    "sns.countplot(x=\"Departure\", data=flight_df, hue=\"Departure\", palette=\"coolwarm\", ax=axes[0])\n",
    "axes[0].set_title(\"Count of Flights by Departure Time\")\n",
    "axes[0].set_xlabel(\"Departure Time\")\n",
    "axes[0].set_ylabel(\"Count\")\n",
    "axes[0].tick_params(axis='x', rotation=45)\n",
    "\n",
    "#Countplot for Arrival\n",
    "sns.countplot(x=\"Arrival\", data=flight_df, hue=\"Arrival\", palette=\"coolwarm\", ax=axes[1])\n",
    "axes[1].set_title(\"Count of Flights by Arrival Time\")\n",
    "axes[1].set_xlabel(\"Arrival Time\")\n",
    "axes[1].tick_params(axis='x', rotation=45)\n",
    "plt.tight_layout()\n",
    "plt.ylabel(\"Count\")\n",
    "plt.show()"
   ]
  },
  {
   "cell_type": "markdown",
   "id": "2b9593c1-832d-4ddb-a3c1-98fac0f941b8",
   "metadata": {},
   "source": [
    "## **Insights :**\n",
    "-  ### **Most departures are during 5AM-12PM.**\n",
    "-  ### **Night and morning arrivals occur at a similar frequency.**"
   ]
  },
  {
   "cell_type": "code",
   "execution_count": null,
   "id": "27135265-0e24-4075-8538-272e4c40f3e4",
   "metadata": {},
   "outputs": [],
   "source": []
  }
 ],
 "metadata": {
  "kernelspec": {
   "display_name": "Python 3 (ipykernel)",
   "language": "python",
   "name": "python3"
  },
  "language_info": {
   "codemirror_mode": {
    "name": "ipython",
    "version": 3
   },
   "file_extension": ".py",
   "mimetype": "text/x-python",
   "name": "python",
   "nbconvert_exporter": "python",
   "pygments_lexer": "ipython3",
   "version": "3.10.12"
  }
 },
 "nbformat": 4,
 "nbformat_minor": 5
}
